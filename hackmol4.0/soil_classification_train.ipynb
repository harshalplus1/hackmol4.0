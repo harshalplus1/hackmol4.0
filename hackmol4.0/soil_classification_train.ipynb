{
 "cells": [
  {
   "cell_type": "code",
   "execution_count": 124,
   "metadata": {},
   "outputs": [],
   "source": [
    "import tensorflow as tf\n",
    "import numpy as np\n",
    "import cv2 as cv\n",
    "import os\n",
    "from sklearn.model_selection import train_test_split\n",
    "from keras.preprocessing.image import ImageDataGenerator\n",
    "from keras.callbacks import ModelCheckpoint\n",
    "from sklearn import metrics"
   ]
  },
  {
   "cell_type": "code",
   "execution_count": 125,
   "metadata": {},
   "outputs": [],
   "source": [
    "path=r\"C:\\Users\\hkshi\\OneDrive\\Desktop\\Soil types\"\n",
    "classes=[\"Black Soil\",\"Cinder Soil\",\"Laterite Soil\",\"Peat Soil\",\"Yellow Soil\"]\n",
    "images=[]\n",
    "label=[]\n",
    "for soil in classes:\n",
    "    npath=os.path.join(path,soil)\n",
    "    index=classes.index(soil)\n",
    "    for imgs in os.listdir(npath):\n",
    "        nnpath=os.path.join(npath,imgs)\n",
    "        img=cv.imread(nnpath)\n",
    "        img.resize(128,128,3)\n",
    "        images.append(img)\n",
    "        label.append(index)\n",
    "images=np.array(images)\n",
    "label=np.array(label)"
   ]
  },
  {
   "cell_type": "code",
   "execution_count": 126,
   "metadata": {},
   "outputs": [
    {
     "name": "stdout",
     "output_type": "stream",
     "text": [
      "Model: \"sequential_15\"\n",
      "_________________________________________________________________\n",
      " Layer (type)                Output Shape              Param #   \n",
      "=================================================================\n",
      " batch_normalization_15 (Bat  (None, 128, 128, 3)      12        \n",
      " chNormalization)                                                \n",
      "                                                                 \n",
      " conv2d_60 (Conv2D)          (None, 128, 128, 8)       224       \n",
      "                                                                 \n",
      " conv2d_61 (Conv2D)          (None, 128, 128, 16)      1168      \n",
      "                                                                 \n",
      " max_pooling2d_16 (MaxPoolin  (None, 64, 64, 16)       0         \n",
      " g2D)                                                            \n",
      "                                                                 \n",
      " dropout_31 (Dropout)        (None, 64, 64, 16)        0         \n",
      "                                                                 \n",
      " conv2d_62 (Conv2D)          (None, 64, 64, 16)        2320      \n",
      "                                                                 \n",
      " conv2d_63 (Conv2D)          (None, 64, 64, 32)        4640      \n",
      "                                                                 \n",
      " dropout_32 (Dropout)        (None, 64, 64, 32)        0         \n",
      "                                                                 \n",
      " flatten_15 (Flatten)        (None, 131072)            0         \n",
      "                                                                 \n",
      " dense_18 (Dense)            (None, 5)                 655365    \n",
      "                                                                 \n",
      "=================================================================\n",
      "Total params: 663,729\n",
      "Trainable params: 663,723\n",
      "Non-trainable params: 6\n",
      "_________________________________________________________________\n"
     ]
    }
   ],
   "source": [
    "model=tf.keras.Sequential([\n",
    "    tf.keras.layers.BatchNormalization(input_shape=(128,128,3)),\n",
    "    tf.keras.layers.Conv2D(8,(3,3),strides=(1,1),padding=\"same\",activation=\"relu\"),\n",
    "    tf.keras.layers.Conv2D(16,(3,3),strides=(1,1),padding=\"same\",activation=\"relu\"),\n",
    "    tf.keras.layers.MaxPooling2D((2,2)),\n",
    "    tf.keras.layers.Dropout(0.5),\n",
    "    tf.keras.layers.Conv2D(16,(3,3),strides=(1,1),padding=\"same\",activation=\"relu\"),\n",
    "    tf.keras.layers.Conv2D(32,(3,3),strides=(1,1),padding=\"same\",activation=\"relu\"),\n",
    "    tf.keras.layers.Dropout(0.5),\n",
    "    tf.keras.layers.Flatten(),\n",
    "    tf.keras.layers.Dense(5,activation=\"sigmoid\"),\n",
    "])\n",
    "model.compile(loss=\"sparse_categorical_crossentropy\",metrics=[\"accuracy\"],optimizer=\"adam\")\n",
    "model.summary()"
   ]
  },
  {
   "cell_type": "code",
   "execution_count": 130,
   "metadata": {},
   "outputs": [
    {
     "name": "stdout",
     "output_type": "stream",
     "text": [
      "Epoch 1/10\n"
     ]
    },
    {
     "name": "stderr",
     "output_type": "stream",
     "text": [
      "C:\\Users\\hkshi\\AppData\\Local\\Temp\\ipykernel_2436\\1707744581.py:4: UserWarning: `Model.fit_generator` is deprecated and will be removed in a future version. Please use `Model.fit`, which supports generators.\n",
      "  model.fit_generator(aug.flow(x_train,y_train,batch_size=3),epochs=10,validation_data=(x_test,y_test))\n"
     ]
    },
    {
     "name": "stdout",
     "output_type": "stream",
     "text": [
      "39/39 [==============================] - 4s 96ms/step - loss: 0.3251 - accuracy: 0.8783 - val_loss: 0.1851 - val_accuracy: 0.9487\n",
      "Epoch 2/10\n",
      "39/39 [==============================] - 4s 105ms/step - loss: 0.4549 - accuracy: 0.8783 - val_loss: 0.3168 - val_accuracy: 0.8462\n",
      "Epoch 3/10\n",
      "39/39 [==============================] - 6s 146ms/step - loss: 0.2527 - accuracy: 0.9217 - val_loss: 0.1084 - val_accuracy: 0.9744\n",
      "Epoch 4/10\n",
      "39/39 [==============================] - 7s 184ms/step - loss: 0.0658 - accuracy: 0.9913 - val_loss: 0.1065 - val_accuracy: 0.9487\n",
      "Epoch 5/10\n",
      "39/39 [==============================] - 8s 195ms/step - loss: 0.0435 - accuracy: 0.9913 - val_loss: 0.1148 - val_accuracy: 0.9487\n",
      "Epoch 6/10\n",
      "39/39 [==============================] - 4s 108ms/step - loss: 0.0876 - accuracy: 0.9652 - val_loss: 0.0972 - val_accuracy: 0.9487\n",
      "Epoch 7/10\n",
      "39/39 [==============================] - 4s 93ms/step - loss: 0.0121 - accuracy: 1.0000 - val_loss: 0.1078 - val_accuracy: 0.9487\n",
      "Epoch 8/10\n",
      "39/39 [==============================] - 4s 90ms/step - loss: 0.0051 - accuracy: 1.0000 - val_loss: 0.1016 - val_accuracy: 0.9487\n",
      "Epoch 9/10\n",
      "39/39 [==============================] - 4s 92ms/step - loss: 0.0085 - accuracy: 1.0000 - val_loss: 0.0767 - val_accuracy: 0.9487\n",
      "Epoch 10/10\n",
      "39/39 [==============================] - 4s 91ms/step - loss: 0.0047 - accuracy: 1.0000 - val_loss: 0.1265 - val_accuracy: 0.9487\n"
     ]
    },
    {
     "data": {
      "text/plain": [
       "<keras.callbacks.History at 0x27bbe623d30>"
      ]
     },
     "execution_count": 130,
     "metadata": {},
     "output_type": "execute_result"
    }
   ],
   "source": [
    "x_train,x_test,y_train,y_test=train_test_split(images,label,test_size=0.25)\n",
    "aug=ImageDataGenerator(channel_shift_range=0.4,rotation_range=0.4)\n",
    "aug.fit(x_train)\n",
    "model.fit_generator(aug.flow(x_train,y_train,batch_size=3),epochs=10,validation_data=(x_test,y_test))"
   ]
  },
  {
   "cell_type": "code",
   "execution_count": 131,
   "metadata": {},
   "outputs": [
    {
     "name": "stdout",
     "output_type": "stream",
     "text": [
      "2/2 [==============================] - 0s 27ms/step - loss: 0.1265 - accuracy: 0.9487\n"
     ]
    },
    {
     "data": {
      "text/plain": [
       "[0.12652626633644104, 0.9487179517745972]"
      ]
     },
     "execution_count": 131,
     "metadata": {},
     "output_type": "execute_result"
    }
   ],
   "source": [
    "model.evaluate(x_test,y_test)"
   ]
  },
  {
   "cell_type": "code",
   "execution_count": 132,
   "metadata": {},
   "outputs": [
    {
     "name": "stdout",
     "output_type": "stream",
     "text": [
      "4/4 [==============================] - 0s 76ms/step\n"
     ]
    },
    {
     "data": {
      "text/plain": [
       "(115, 5)"
      ]
     },
     "execution_count": 132,
     "metadata": {},
     "output_type": "execute_result"
    }
   ],
   "source": [
    "ypred=model.predict(x_train)\n",
    "newpred=[]\n",
    "ypred=np.array(ypred)\n",
    "ypred.shape"
   ]
  },
  {
   "cell_type": "code",
   "execution_count": 133,
   "metadata": {},
   "outputs": [],
   "source": [
    "for pred in ypred:\n",
    "    pred1=np.argmax(pred)\n",
    "    newpred.append(pred1)"
   ]
  },
  {
   "cell_type": "code",
   "execution_count": 134,
   "metadata": {},
   "outputs": [
    {
     "data": {
      "text/plain": [
       "(115,)"
      ]
     },
     "execution_count": 134,
     "metadata": {},
     "output_type": "execute_result"
    }
   ],
   "source": [
    "newpred=np.array(newpred)\n",
    "newpred.shape"
   ]
  },
  {
   "cell_type": "code",
   "execution_count": 140,
   "metadata": {},
   "outputs": [],
   "source": [
    "model.save(r\"C:\\Users\\hkshi\\OneDrive\\Desktop\\hackmolsoilclassification.h5\")"
   ]
  },
  {
   "cell_type": "code",
   "execution_count": 135,
   "metadata": {},
   "outputs": [
    {
     "data": {
      "text/plain": [
       "1.0"
      ]
     },
     "execution_count": 135,
     "metadata": {},
     "output_type": "execute_result"
    }
   ],
   "source": [
    "from sklearn.metrics import f1_score,precision_score,recall_score\n",
    "f1_score(y_train,newpred,average=\"micro\")\n",
    "precision_score(y_train,newpred,average=\"micro\")\n",
    "recall_score(y_train,newpred,average=\"micro\")"
   ]
  },
  {
   "cell_type": "code",
   "execution_count": 136,
   "metadata": {},
   "outputs": [
    {
     "data": {
      "text/plain": [
       "array([[25,  0,  0,  0,  0],\n",
       "       [ 0, 21,  0,  0,  0],\n",
       "       [ 0,  0, 22,  0,  0],\n",
       "       [ 0,  0,  0, 24,  0],\n",
       "       [ 0,  0,  0,  0, 23]], dtype=int64)"
      ]
     },
     "execution_count": 136,
     "metadata": {},
     "output_type": "execute_result"
    }
   ],
   "source": [
    "from sklearn.metrics import confusion_matrix\n",
    "confusion_matrix(y_train,newpred)"
   ]
  },
  {
   "cell_type": "code",
   "execution_count": 137,
   "metadata": {},
   "outputs": [
    {
     "data": {
      "text/plain": [
       "array([1, 1, 1, 1, 2, 2, 4, 2, 1, 1, 3, 3, 2, 4, 0, 0, 0, 0, 1, 0, 0, 4,\n",
       "       1, 4, 3, 4, 0, 0, 3, 4, 3, 2, 0, 0, 2, 3, 2, 1, 0, 3, 4, 2, 0, 2,\n",
       "       1, 0, 0, 1, 2, 4, 4, 0, 2, 2, 3, 0, 3, 3, 1, 0, 1, 3, 3, 3, 1, 1,\n",
       "       3, 1, 3, 4, 0, 2, 3, 4, 0, 0, 3, 3, 4, 0, 1, 2, 2, 1, 4, 2, 4, 0,\n",
       "       2, 4, 2, 4, 1, 2, 2, 3, 4, 4, 3, 4, 1, 0, 4, 0, 3, 4, 4, 3, 2, 0,\n",
       "       2, 3, 1, 3, 4], dtype=int64)"
      ]
     },
     "execution_count": 137,
     "metadata": {},
     "output_type": "execute_result"
    }
   ],
   "source": [
    "newpred"
   ]
  },
  {
   "cell_type": "code",
   "execution_count": 138,
   "metadata": {},
   "outputs": [
    {
     "data": {
      "text/plain": [
       "array([1, 1, 1, 1, 2, 2, 4, 2, 1, 1, 3, 3, 2, 4, 0, 0, 0, 0, 1, 0, 0, 4,\n",
       "       1, 4, 3, 4, 0, 0, 3, 4, 3, 2, 0, 0, 2, 3, 2, 1, 0, 3, 4, 2, 0, 2,\n",
       "       1, 0, 0, 1, 2, 4, 4, 0, 2, 2, 3, 0, 3, 3, 1, 0, 1, 3, 3, 3, 1, 1,\n",
       "       3, 1, 3, 4, 0, 2, 3, 4, 0, 0, 3, 3, 4, 0, 1, 2, 2, 1, 4, 2, 4, 0,\n",
       "       2, 4, 2, 4, 1, 2, 2, 3, 4, 4, 3, 4, 1, 0, 4, 0, 3, 4, 4, 3, 2, 0,\n",
       "       2, 3, 1, 3, 4])"
      ]
     },
     "execution_count": 138,
     "metadata": {},
     "output_type": "execute_result"
    }
   ],
   "source": [
    "y_train"
   ]
  }
 ],
 "metadata": {
  "kernelspec": {
   "display_name": "Python 3",
   "language": "python",
   "name": "python3"
  },
  "language_info": {
   "codemirror_mode": {
    "name": "ipython",
    "version": 3
   },
   "file_extension": ".py",
   "mimetype": "text/x-python",
   "name": "python",
   "nbconvert_exporter": "python",
   "pygments_lexer": "ipython3",
   "version": "3.10.0"
  },
  "orig_nbformat": 4,
  "vscode": {
   "interpreter": {
    "hash": "16037275878e51c27a8709b0565eda3f87d771055d7d729519b6518fb4a95bd3"
   }
  }
 },
 "nbformat": 4,
 "nbformat_minor": 2
}
