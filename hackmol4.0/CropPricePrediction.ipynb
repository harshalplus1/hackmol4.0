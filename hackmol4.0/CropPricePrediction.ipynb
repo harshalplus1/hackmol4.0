{
  "nbformat": 4,
  "nbformat_minor": 0,
  "metadata": {
    "colab": {
      "provenance": []
    },
    "kernelspec": {
      "name": "python3",
      "display_name": "Python 3"
    },
    "language_info": {
      "name": "python"
    }
  },
  "cells": [
    {
      "cell_type": "code",
      "execution_count": 40,
      "metadata": {
        "id": "3_46GwnkwEwR"
      },
      "outputs": [],
      "source": [
        "import pandas as pd\n",
        "import numpy as np\n",
        "import matplotlib.pyplot as plt\n",
        "import seaborn as sns"
      ]
    },
    {
      "cell_type": "code",
      "source": [
        "d = pd.read_csv(\"agridata_csv_202110311352.csv\")\n",
        "d"
      ],
      "metadata": {
        "id": "Ie_mFAL5wFQj",
        "colab": {
          "base_uri": "https://localhost:8080/",
          "height": 424
        },
        "outputId": "88c708f8-9287-445f-f5a8-a1cba7d53b71"
      },
      "execution_count": 41,
      "outputs": [
        {
          "output_type": "execute_result",
          "data": {
            "text/plain": [
              "       commodity_name          state    district      market  min_price  \\\n",
              "0               Ajwan        Gujarat      Amreli      Amreli      63.25   \n",
              "1               Ajwan        Gujarat  Banaskanth     Dhanera      80.05   \n",
              "2               Ajwan        Gujarat    Jamnagar    Jamnagar      90.00   \n",
              "3               Ajwan        Gujarat     Mehsana        Kadi      94.50   \n",
              "4               Ajwan        Gujarat     Mehsana       Unjha      21.25   \n",
              "...               ...            ...         ...         ...        ...   \n",
              "803471        Pumpkin  Uttar Pradesh      Ballia       Rasda       9.60   \n",
              "803472        Pumpkin  Uttar Pradesh   Firozabad  Shikohabad       6.30   \n",
              "803473        Pumpkin  Uttar Pradesh   Pillibhit   Vishalpur      10.00   \n",
              "803474        Raddish    Chattisgarh    Bilaspur      Tiphra       9.00   \n",
              "803475        Raddish            Jam         NaN         NaN        NaN   \n",
              "\n",
              "        max_price  modal_price        date  \n",
              "0           79.55        79.55  2019-05-22  \n",
              "1           80.05        80.05  2019-05-22  \n",
              "2          155.00       122.50  2019-05-22  \n",
              "3          112.50       107.00  2019-05-22  \n",
              "4          148.50        99.75  2019-05-22  \n",
              "...           ...          ...         ...  \n",
              "803471      11.00        10.25  2021-07-13  \n",
              "803472       6.60         6.50  2021-07-13  \n",
              "803473      10.50        10.20  2021-07-13  \n",
              "803474      12.00        11.00  2021-07-13  \n",
              "803475        NaN          NaN         NaN  \n",
              "\n",
              "[803476 rows x 8 columns]"
            ],
            "text/html": [
              "\n",
              "  <div id=\"df-bc25c533-4d6e-4036-89ba-d87d1411cbbf\">\n",
              "    <div class=\"colab-df-container\">\n",
              "      <div>\n",
              "<style scoped>\n",
              "    .dataframe tbody tr th:only-of-type {\n",
              "        vertical-align: middle;\n",
              "    }\n",
              "\n",
              "    .dataframe tbody tr th {\n",
              "        vertical-align: top;\n",
              "    }\n",
              "\n",
              "    .dataframe thead th {\n",
              "        text-align: right;\n",
              "    }\n",
              "</style>\n",
              "<table border=\"1\" class=\"dataframe\">\n",
              "  <thead>\n",
              "    <tr style=\"text-align: right;\">\n",
              "      <th></th>\n",
              "      <th>commodity_name</th>\n",
              "      <th>state</th>\n",
              "      <th>district</th>\n",
              "      <th>market</th>\n",
              "      <th>min_price</th>\n",
              "      <th>max_price</th>\n",
              "      <th>modal_price</th>\n",
              "      <th>date</th>\n",
              "    </tr>\n",
              "  </thead>\n",
              "  <tbody>\n",
              "    <tr>\n",
              "      <th>0</th>\n",
              "      <td>Ajwan</td>\n",
              "      <td>Gujarat</td>\n",
              "      <td>Amreli</td>\n",
              "      <td>Amreli</td>\n",
              "      <td>63.25</td>\n",
              "      <td>79.55</td>\n",
              "      <td>79.55</td>\n",
              "      <td>2019-05-22</td>\n",
              "    </tr>\n",
              "    <tr>\n",
              "      <th>1</th>\n",
              "      <td>Ajwan</td>\n",
              "      <td>Gujarat</td>\n",
              "      <td>Banaskanth</td>\n",
              "      <td>Dhanera</td>\n",
              "      <td>80.05</td>\n",
              "      <td>80.05</td>\n",
              "      <td>80.05</td>\n",
              "      <td>2019-05-22</td>\n",
              "    </tr>\n",
              "    <tr>\n",
              "      <th>2</th>\n",
              "      <td>Ajwan</td>\n",
              "      <td>Gujarat</td>\n",
              "      <td>Jamnagar</td>\n",
              "      <td>Jamnagar</td>\n",
              "      <td>90.00</td>\n",
              "      <td>155.00</td>\n",
              "      <td>122.50</td>\n",
              "      <td>2019-05-22</td>\n",
              "    </tr>\n",
              "    <tr>\n",
              "      <th>3</th>\n",
              "      <td>Ajwan</td>\n",
              "      <td>Gujarat</td>\n",
              "      <td>Mehsana</td>\n",
              "      <td>Kadi</td>\n",
              "      <td>94.50</td>\n",
              "      <td>112.50</td>\n",
              "      <td>107.00</td>\n",
              "      <td>2019-05-22</td>\n",
              "    </tr>\n",
              "    <tr>\n",
              "      <th>4</th>\n",
              "      <td>Ajwan</td>\n",
              "      <td>Gujarat</td>\n",
              "      <td>Mehsana</td>\n",
              "      <td>Unjha</td>\n",
              "      <td>21.25</td>\n",
              "      <td>148.50</td>\n",
              "      <td>99.75</td>\n",
              "      <td>2019-05-22</td>\n",
              "    </tr>\n",
              "    <tr>\n",
              "      <th>...</th>\n",
              "      <td>...</td>\n",
              "      <td>...</td>\n",
              "      <td>...</td>\n",
              "      <td>...</td>\n",
              "      <td>...</td>\n",
              "      <td>...</td>\n",
              "      <td>...</td>\n",
              "      <td>...</td>\n",
              "    </tr>\n",
              "    <tr>\n",
              "      <th>803471</th>\n",
              "      <td>Pumpkin</td>\n",
              "      <td>Uttar Pradesh</td>\n",
              "      <td>Ballia</td>\n",
              "      <td>Rasda</td>\n",
              "      <td>9.60</td>\n",
              "      <td>11.00</td>\n",
              "      <td>10.25</td>\n",
              "      <td>2021-07-13</td>\n",
              "    </tr>\n",
              "    <tr>\n",
              "      <th>803472</th>\n",
              "      <td>Pumpkin</td>\n",
              "      <td>Uttar Pradesh</td>\n",
              "      <td>Firozabad</td>\n",
              "      <td>Shikohabad</td>\n",
              "      <td>6.30</td>\n",
              "      <td>6.60</td>\n",
              "      <td>6.50</td>\n",
              "      <td>2021-07-13</td>\n",
              "    </tr>\n",
              "    <tr>\n",
              "      <th>803473</th>\n",
              "      <td>Pumpkin</td>\n",
              "      <td>Uttar Pradesh</td>\n",
              "      <td>Pillibhit</td>\n",
              "      <td>Vishalpur</td>\n",
              "      <td>10.00</td>\n",
              "      <td>10.50</td>\n",
              "      <td>10.20</td>\n",
              "      <td>2021-07-13</td>\n",
              "    </tr>\n",
              "    <tr>\n",
              "      <th>803474</th>\n",
              "      <td>Raddish</td>\n",
              "      <td>Chattisgarh</td>\n",
              "      <td>Bilaspur</td>\n",
              "      <td>Tiphra</td>\n",
              "      <td>9.00</td>\n",
              "      <td>12.00</td>\n",
              "      <td>11.00</td>\n",
              "      <td>2021-07-13</td>\n",
              "    </tr>\n",
              "    <tr>\n",
              "      <th>803475</th>\n",
              "      <td>Raddish</td>\n",
              "      <td>Jam</td>\n",
              "      <td>NaN</td>\n",
              "      <td>NaN</td>\n",
              "      <td>NaN</td>\n",
              "      <td>NaN</td>\n",
              "      <td>NaN</td>\n",
              "      <td>NaN</td>\n",
              "    </tr>\n",
              "  </tbody>\n",
              "</table>\n",
              "<p>803476 rows × 8 columns</p>\n",
              "</div>\n",
              "      <button class=\"colab-df-convert\" onclick=\"convertToInteractive('df-bc25c533-4d6e-4036-89ba-d87d1411cbbf')\"\n",
              "              title=\"Convert this dataframe to an interactive table.\"\n",
              "              style=\"display:none;\">\n",
              "        \n",
              "  <svg xmlns=\"http://www.w3.org/2000/svg\" height=\"24px\"viewBox=\"0 0 24 24\"\n",
              "       width=\"24px\">\n",
              "    <path d=\"M0 0h24v24H0V0z\" fill=\"none\"/>\n",
              "    <path d=\"M18.56 5.44l.94 2.06.94-2.06 2.06-.94-2.06-.94-.94-2.06-.94 2.06-2.06.94zm-11 1L8.5 8.5l.94-2.06 2.06-.94-2.06-.94L8.5 2.5l-.94 2.06-2.06.94zm10 10l.94 2.06.94-2.06 2.06-.94-2.06-.94-.94-2.06-.94 2.06-2.06.94z\"/><path d=\"M17.41 7.96l-1.37-1.37c-.4-.4-.92-.59-1.43-.59-.52 0-1.04.2-1.43.59L10.3 9.45l-7.72 7.72c-.78.78-.78 2.05 0 2.83L4 21.41c.39.39.9.59 1.41.59.51 0 1.02-.2 1.41-.59l7.78-7.78 2.81-2.81c.8-.78.8-2.07 0-2.86zM5.41 20L4 18.59l7.72-7.72 1.47 1.35L5.41 20z\"/>\n",
              "  </svg>\n",
              "      </button>\n",
              "      \n",
              "  <style>\n",
              "    .colab-df-container {\n",
              "      display:flex;\n",
              "      flex-wrap:wrap;\n",
              "      gap: 12px;\n",
              "    }\n",
              "\n",
              "    .colab-df-convert {\n",
              "      background-color: #E8F0FE;\n",
              "      border: none;\n",
              "      border-radius: 50%;\n",
              "      cursor: pointer;\n",
              "      display: none;\n",
              "      fill: #1967D2;\n",
              "      height: 32px;\n",
              "      padding: 0 0 0 0;\n",
              "      width: 32px;\n",
              "    }\n",
              "\n",
              "    .colab-df-convert:hover {\n",
              "      background-color: #E2EBFA;\n",
              "      box-shadow: 0px 1px 2px rgba(60, 64, 67, 0.3), 0px 1px 3px 1px rgba(60, 64, 67, 0.15);\n",
              "      fill: #174EA6;\n",
              "    }\n",
              "\n",
              "    [theme=dark] .colab-df-convert {\n",
              "      background-color: #3B4455;\n",
              "      fill: #D2E3FC;\n",
              "    }\n",
              "\n",
              "    [theme=dark] .colab-df-convert:hover {\n",
              "      background-color: #434B5C;\n",
              "      box-shadow: 0px 1px 3px 1px rgba(0, 0, 0, 0.15);\n",
              "      filter: drop-shadow(0px 1px 2px rgba(0, 0, 0, 0.3));\n",
              "      fill: #FFFFFF;\n",
              "    }\n",
              "  </style>\n",
              "\n",
              "      <script>\n",
              "        const buttonEl =\n",
              "          document.querySelector('#df-bc25c533-4d6e-4036-89ba-d87d1411cbbf button.colab-df-convert');\n",
              "        buttonEl.style.display =\n",
              "          google.colab.kernel.accessAllowed ? 'block' : 'none';\n",
              "\n",
              "        async function convertToInteractive(key) {\n",
              "          const element = document.querySelector('#df-bc25c533-4d6e-4036-89ba-d87d1411cbbf');\n",
              "          const dataTable =\n",
              "            await google.colab.kernel.invokeFunction('convertToInteractive',\n",
              "                                                     [key], {});\n",
              "          if (!dataTable) return;\n",
              "\n",
              "          const docLinkHtml = 'Like what you see? Visit the ' +\n",
              "            '<a target=\"_blank\" href=https://colab.research.google.com/notebooks/data_table.ipynb>data table notebook</a>'\n",
              "            + ' to learn more about interactive tables.';\n",
              "          element.innerHTML = '';\n",
              "          dataTable['output_type'] = 'display_data';\n",
              "          await google.colab.output.renderOutput(dataTable, element);\n",
              "          const docLink = document.createElement('div');\n",
              "          docLink.innerHTML = docLinkHtml;\n",
              "          element.appendChild(docLink);\n",
              "        }\n",
              "      </script>\n",
              "    </div>\n",
              "  </div>\n",
              "  "
            ]
          },
          "metadata": {},
          "execution_count": 41
        }
      ]
    },
    {
      "cell_type": "code",
      "source": [
        "from sklearn import preprocessing\n",
        "\n",
        "label_encoder = preprocessing.LabelEncoder()\n",
        "\n",
        "d['commodity'] = label_encoder.fit_transform(d['commodity_name'])\n",
        "d"
      ],
      "metadata": {
        "id": "KEur42dNwFS2",
        "colab": {
          "base_uri": "https://localhost:8080/",
          "height": 424
        },
        "outputId": "2e6142a9-2421-4c43-c6f4-dffd9107dbf1"
      },
      "execution_count": 42,
      "outputs": [
        {
          "output_type": "execute_result",
          "data": {
            "text/plain": [
              "       commodity_name          state    district      market  min_price  \\\n",
              "0               Ajwan        Gujarat      Amreli      Amreli      63.25   \n",
              "1               Ajwan        Gujarat  Banaskanth     Dhanera      80.05   \n",
              "2               Ajwan        Gujarat    Jamnagar    Jamnagar      90.00   \n",
              "3               Ajwan        Gujarat     Mehsana        Kadi      94.50   \n",
              "4               Ajwan        Gujarat     Mehsana       Unjha      21.25   \n",
              "...               ...            ...         ...         ...        ...   \n",
              "803471        Pumpkin  Uttar Pradesh      Ballia       Rasda       9.60   \n",
              "803472        Pumpkin  Uttar Pradesh   Firozabad  Shikohabad       6.30   \n",
              "803473        Pumpkin  Uttar Pradesh   Pillibhit   Vishalpur      10.00   \n",
              "803474        Raddish    Chattisgarh    Bilaspur      Tiphra       9.00   \n",
              "803475        Raddish            Jam         NaN         NaN        NaN   \n",
              "\n",
              "        max_price  modal_price        date  commodity  \n",
              "0           79.55        79.55  2019-05-22          0  \n",
              "1           80.05        80.05  2019-05-22          0  \n",
              "2          155.00       122.50  2019-05-22          0  \n",
              "3          112.50       107.00  2019-05-22          0  \n",
              "4          148.50        99.75  2019-05-22          0  \n",
              "...           ...          ...         ...        ...  \n",
              "803471      11.00        10.25  2021-07-13        177  \n",
              "803472       6.60         6.50  2021-07-13        177  \n",
              "803473      10.50        10.20  2021-07-13        177  \n",
              "803474      12.00        11.00  2021-07-13        178  \n",
              "803475        NaN          NaN         NaN        178  \n",
              "\n",
              "[803476 rows x 9 columns]"
            ],
            "text/html": [
              "\n",
              "  <div id=\"df-90ae69f7-4f95-4278-b3bf-0833390cd747\">\n",
              "    <div class=\"colab-df-container\">\n",
              "      <div>\n",
              "<style scoped>\n",
              "    .dataframe tbody tr th:only-of-type {\n",
              "        vertical-align: middle;\n",
              "    }\n",
              "\n",
              "    .dataframe tbody tr th {\n",
              "        vertical-align: top;\n",
              "    }\n",
              "\n",
              "    .dataframe thead th {\n",
              "        text-align: right;\n",
              "    }\n",
              "</style>\n",
              "<table border=\"1\" class=\"dataframe\">\n",
              "  <thead>\n",
              "    <tr style=\"text-align: right;\">\n",
              "      <th></th>\n",
              "      <th>commodity_name</th>\n",
              "      <th>state</th>\n",
              "      <th>district</th>\n",
              "      <th>market</th>\n",
              "      <th>min_price</th>\n",
              "      <th>max_price</th>\n",
              "      <th>modal_price</th>\n",
              "      <th>date</th>\n",
              "      <th>commodity</th>\n",
              "    </tr>\n",
              "  </thead>\n",
              "  <tbody>\n",
              "    <tr>\n",
              "      <th>0</th>\n",
              "      <td>Ajwan</td>\n",
              "      <td>Gujarat</td>\n",
              "      <td>Amreli</td>\n",
              "      <td>Amreli</td>\n",
              "      <td>63.25</td>\n",
              "      <td>79.55</td>\n",
              "      <td>79.55</td>\n",
              "      <td>2019-05-22</td>\n",
              "      <td>0</td>\n",
              "    </tr>\n",
              "    <tr>\n",
              "      <th>1</th>\n",
              "      <td>Ajwan</td>\n",
              "      <td>Gujarat</td>\n",
              "      <td>Banaskanth</td>\n",
              "      <td>Dhanera</td>\n",
              "      <td>80.05</td>\n",
              "      <td>80.05</td>\n",
              "      <td>80.05</td>\n",
              "      <td>2019-05-22</td>\n",
              "      <td>0</td>\n",
              "    </tr>\n",
              "    <tr>\n",
              "      <th>2</th>\n",
              "      <td>Ajwan</td>\n",
              "      <td>Gujarat</td>\n",
              "      <td>Jamnagar</td>\n",
              "      <td>Jamnagar</td>\n",
              "      <td>90.00</td>\n",
              "      <td>155.00</td>\n",
              "      <td>122.50</td>\n",
              "      <td>2019-05-22</td>\n",
              "      <td>0</td>\n",
              "    </tr>\n",
              "    <tr>\n",
              "      <th>3</th>\n",
              "      <td>Ajwan</td>\n",
              "      <td>Gujarat</td>\n",
              "      <td>Mehsana</td>\n",
              "      <td>Kadi</td>\n",
              "      <td>94.50</td>\n",
              "      <td>112.50</td>\n",
              "      <td>107.00</td>\n",
              "      <td>2019-05-22</td>\n",
              "      <td>0</td>\n",
              "    </tr>\n",
              "    <tr>\n",
              "      <th>4</th>\n",
              "      <td>Ajwan</td>\n",
              "      <td>Gujarat</td>\n",
              "      <td>Mehsana</td>\n",
              "      <td>Unjha</td>\n",
              "      <td>21.25</td>\n",
              "      <td>148.50</td>\n",
              "      <td>99.75</td>\n",
              "      <td>2019-05-22</td>\n",
              "      <td>0</td>\n",
              "    </tr>\n",
              "    <tr>\n",
              "      <th>...</th>\n",
              "      <td>...</td>\n",
              "      <td>...</td>\n",
              "      <td>...</td>\n",
              "      <td>...</td>\n",
              "      <td>...</td>\n",
              "      <td>...</td>\n",
              "      <td>...</td>\n",
              "      <td>...</td>\n",
              "      <td>...</td>\n",
              "    </tr>\n",
              "    <tr>\n",
              "      <th>803471</th>\n",
              "      <td>Pumpkin</td>\n",
              "      <td>Uttar Pradesh</td>\n",
              "      <td>Ballia</td>\n",
              "      <td>Rasda</td>\n",
              "      <td>9.60</td>\n",
              "      <td>11.00</td>\n",
              "      <td>10.25</td>\n",
              "      <td>2021-07-13</td>\n",
              "      <td>177</td>\n",
              "    </tr>\n",
              "    <tr>\n",
              "      <th>803472</th>\n",
              "      <td>Pumpkin</td>\n",
              "      <td>Uttar Pradesh</td>\n",
              "      <td>Firozabad</td>\n",
              "      <td>Shikohabad</td>\n",
              "      <td>6.30</td>\n",
              "      <td>6.60</td>\n",
              "      <td>6.50</td>\n",
              "      <td>2021-07-13</td>\n",
              "      <td>177</td>\n",
              "    </tr>\n",
              "    <tr>\n",
              "      <th>803473</th>\n",
              "      <td>Pumpkin</td>\n",
              "      <td>Uttar Pradesh</td>\n",
              "      <td>Pillibhit</td>\n",
              "      <td>Vishalpur</td>\n",
              "      <td>10.00</td>\n",
              "      <td>10.50</td>\n",
              "      <td>10.20</td>\n",
              "      <td>2021-07-13</td>\n",
              "      <td>177</td>\n",
              "    </tr>\n",
              "    <tr>\n",
              "      <th>803474</th>\n",
              "      <td>Raddish</td>\n",
              "      <td>Chattisgarh</td>\n",
              "      <td>Bilaspur</td>\n",
              "      <td>Tiphra</td>\n",
              "      <td>9.00</td>\n",
              "      <td>12.00</td>\n",
              "      <td>11.00</td>\n",
              "      <td>2021-07-13</td>\n",
              "      <td>178</td>\n",
              "    </tr>\n",
              "    <tr>\n",
              "      <th>803475</th>\n",
              "      <td>Raddish</td>\n",
              "      <td>Jam</td>\n",
              "      <td>NaN</td>\n",
              "      <td>NaN</td>\n",
              "      <td>NaN</td>\n",
              "      <td>NaN</td>\n",
              "      <td>NaN</td>\n",
              "      <td>NaN</td>\n",
              "      <td>178</td>\n",
              "    </tr>\n",
              "  </tbody>\n",
              "</table>\n",
              "<p>803476 rows × 9 columns</p>\n",
              "</div>\n",
              "      <button class=\"colab-df-convert\" onclick=\"convertToInteractive('df-90ae69f7-4f95-4278-b3bf-0833390cd747')\"\n",
              "              title=\"Convert this dataframe to an interactive table.\"\n",
              "              style=\"display:none;\">\n",
              "        \n",
              "  <svg xmlns=\"http://www.w3.org/2000/svg\" height=\"24px\"viewBox=\"0 0 24 24\"\n",
              "       width=\"24px\">\n",
              "    <path d=\"M0 0h24v24H0V0z\" fill=\"none\"/>\n",
              "    <path d=\"M18.56 5.44l.94 2.06.94-2.06 2.06-.94-2.06-.94-.94-2.06-.94 2.06-2.06.94zm-11 1L8.5 8.5l.94-2.06 2.06-.94-2.06-.94L8.5 2.5l-.94 2.06-2.06.94zm10 10l.94 2.06.94-2.06 2.06-.94-2.06-.94-.94-2.06-.94 2.06-2.06.94z\"/><path d=\"M17.41 7.96l-1.37-1.37c-.4-.4-.92-.59-1.43-.59-.52 0-1.04.2-1.43.59L10.3 9.45l-7.72 7.72c-.78.78-.78 2.05 0 2.83L4 21.41c.39.39.9.59 1.41.59.51 0 1.02-.2 1.41-.59l7.78-7.78 2.81-2.81c.8-.78.8-2.07 0-2.86zM5.41 20L4 18.59l7.72-7.72 1.47 1.35L5.41 20z\"/>\n",
              "  </svg>\n",
              "      </button>\n",
              "      \n",
              "  <style>\n",
              "    .colab-df-container {\n",
              "      display:flex;\n",
              "      flex-wrap:wrap;\n",
              "      gap: 12px;\n",
              "    }\n",
              "\n",
              "    .colab-df-convert {\n",
              "      background-color: #E8F0FE;\n",
              "      border: none;\n",
              "      border-radius: 50%;\n",
              "      cursor: pointer;\n",
              "      display: none;\n",
              "      fill: #1967D2;\n",
              "      height: 32px;\n",
              "      padding: 0 0 0 0;\n",
              "      width: 32px;\n",
              "    }\n",
              "\n",
              "    .colab-df-convert:hover {\n",
              "      background-color: #E2EBFA;\n",
              "      box-shadow: 0px 1px 2px rgba(60, 64, 67, 0.3), 0px 1px 3px 1px rgba(60, 64, 67, 0.15);\n",
              "      fill: #174EA6;\n",
              "    }\n",
              "\n",
              "    [theme=dark] .colab-df-convert {\n",
              "      background-color: #3B4455;\n",
              "      fill: #D2E3FC;\n",
              "    }\n",
              "\n",
              "    [theme=dark] .colab-df-convert:hover {\n",
              "      background-color: #434B5C;\n",
              "      box-shadow: 0px 1px 3px 1px rgba(0, 0, 0, 0.15);\n",
              "      filter: drop-shadow(0px 1px 2px rgba(0, 0, 0, 0.3));\n",
              "      fill: #FFFFFF;\n",
              "    }\n",
              "  </style>\n",
              "\n",
              "      <script>\n",
              "        const buttonEl =\n",
              "          document.querySelector('#df-90ae69f7-4f95-4278-b3bf-0833390cd747 button.colab-df-convert');\n",
              "        buttonEl.style.display =\n",
              "          google.colab.kernel.accessAllowed ? 'block' : 'none';\n",
              "\n",
              "        async function convertToInteractive(key) {\n",
              "          const element = document.querySelector('#df-90ae69f7-4f95-4278-b3bf-0833390cd747');\n",
              "          const dataTable =\n",
              "            await google.colab.kernel.invokeFunction('convertToInteractive',\n",
              "                                                     [key], {});\n",
              "          if (!dataTable) return;\n",
              "\n",
              "          const docLinkHtml = 'Like what you see? Visit the ' +\n",
              "            '<a target=\"_blank\" href=https://colab.research.google.com/notebooks/data_table.ipynb>data table notebook</a>'\n",
              "            + ' to learn more about interactive tables.';\n",
              "          element.innerHTML = '';\n",
              "          dataTable['output_type'] = 'display_data';\n",
              "          await google.colab.output.renderOutput(dataTable, element);\n",
              "          const docLink = document.createElement('div');\n",
              "          docLink.innerHTML = docLinkHtml;\n",
              "          element.appendChild(docLink);\n",
              "        }\n",
              "      </script>\n",
              "    </div>\n",
              "  </div>\n",
              "  "
            ]
          },
          "metadata": {},
          "execution_count": 42
        }
      ]
    },
    {
      "cell_type": "code",
      "source": [
        "d['state_']= label_encoder.fit_transform(d['state'])\n",
        "d['district_']= label_encoder.fit_transform(d['district'])\n",
        "d['market_']= label_encoder.fit_transform(d['market'])\n"
      ],
      "metadata": {
        "id": "G4N26-hFwFUr"
      },
      "execution_count": 43,
      "outputs": []
    },
    {
      "cell_type": "code",
      "source": [
        "d.drop([\"commodity_name\",\"state\",\"district\"],inplace=True,axis=1)"
      ],
      "metadata": {
        "id": "qfSduWd2wFXC"
      },
      "execution_count": 44,
      "outputs": []
    },
    {
      "cell_type": "code",
      "source": [
        "d.drop([\"market\"],inplace=True,axis=1)"
      ],
      "metadata": {
        "id": "mxu4P2wuwFZY"
      },
      "execution_count": 45,
      "outputs": []
    },
    {
      "cell_type": "code",
      "source": [
        "d['month'] = pd.DatetimeIndex(d['date']).month"
      ],
      "metadata": {
        "id": "dbyT3M4PwFbt"
      },
      "execution_count": 46,
      "outputs": []
    },
    {
      "cell_type": "code",
      "source": [
        "d.drop(['date'], inplace=True, axis=1)"
      ],
      "metadata": {
        "id": "GcORhPa8wFeD"
      },
      "execution_count": 47,
      "outputs": []
    },
    {
      "cell_type": "code",
      "source": [
        "d"
      ],
      "metadata": {
        "colab": {
          "base_uri": "https://localhost:8080/",
          "height": 424
        },
        "id": "y0T4YLd9QI2T",
        "outputId": "b37f9869-85e3-48d8-b35f-545340bfa5e5"
      },
      "execution_count": 48,
      "outputs": [
        {
          "output_type": "execute_result",
          "data": {
            "text/plain": [
              "        min_price  max_price  modal_price  commodity  state_  district_  \\\n",
              "0           63.25      79.55        79.55          0       5         15   \n",
              "1           80.05      80.05        80.05          0       5         38   \n",
              "2           90.00     155.00       122.50          0       5        204   \n",
              "3           94.50     112.50       107.00          0       5        301   \n",
              "4           21.25     148.50        99.75          0       5        301   \n",
              "...           ...        ...          ...        ...     ...        ...   \n",
              "803471       9.60      11.00        10.25        177      27         34   \n",
              "803472       6.30       6.60         6.50        177      27        146   \n",
              "803473      10.00      10.50        10.20        177      27        359   \n",
              "803474       9.00      12.00        11.00        178       3         72   \n",
              "803475        NaN        NaN          NaN        178       8        483   \n",
              "\n",
              "        market_  month  \n",
              "0            78    5.0  \n",
              "1           583    5.0  \n",
              "2           915    5.0  \n",
              "3           978    5.0  \n",
              "4          2238    5.0  \n",
              "...         ...    ...  \n",
              "803471     1828    7.0  \n",
              "803472     2001    7.0  \n",
              "803473     2313    7.0  \n",
              "803474     2185    7.0  \n",
              "803475     2349    NaN  \n",
              "\n",
              "[803476 rows x 8 columns]"
            ],
            "text/html": [
              "\n",
              "  <div id=\"df-20a45d45-5852-437d-9c3f-19523f4128f0\">\n",
              "    <div class=\"colab-df-container\">\n",
              "      <div>\n",
              "<style scoped>\n",
              "    .dataframe tbody tr th:only-of-type {\n",
              "        vertical-align: middle;\n",
              "    }\n",
              "\n",
              "    .dataframe tbody tr th {\n",
              "        vertical-align: top;\n",
              "    }\n",
              "\n",
              "    .dataframe thead th {\n",
              "        text-align: right;\n",
              "    }\n",
              "</style>\n",
              "<table border=\"1\" class=\"dataframe\">\n",
              "  <thead>\n",
              "    <tr style=\"text-align: right;\">\n",
              "      <th></th>\n",
              "      <th>min_price</th>\n",
              "      <th>max_price</th>\n",
              "      <th>modal_price</th>\n",
              "      <th>commodity</th>\n",
              "      <th>state_</th>\n",
              "      <th>district_</th>\n",
              "      <th>market_</th>\n",
              "      <th>month</th>\n",
              "    </tr>\n",
              "  </thead>\n",
              "  <tbody>\n",
              "    <tr>\n",
              "      <th>0</th>\n",
              "      <td>63.25</td>\n",
              "      <td>79.55</td>\n",
              "      <td>79.55</td>\n",
              "      <td>0</td>\n",
              "      <td>5</td>\n",
              "      <td>15</td>\n",
              "      <td>78</td>\n",
              "      <td>5.0</td>\n",
              "    </tr>\n",
              "    <tr>\n",
              "      <th>1</th>\n",
              "      <td>80.05</td>\n",
              "      <td>80.05</td>\n",
              "      <td>80.05</td>\n",
              "      <td>0</td>\n",
              "      <td>5</td>\n",
              "      <td>38</td>\n",
              "      <td>583</td>\n",
              "      <td>5.0</td>\n",
              "    </tr>\n",
              "    <tr>\n",
              "      <th>2</th>\n",
              "      <td>90.00</td>\n",
              "      <td>155.00</td>\n",
              "      <td>122.50</td>\n",
              "      <td>0</td>\n",
              "      <td>5</td>\n",
              "      <td>204</td>\n",
              "      <td>915</td>\n",
              "      <td>5.0</td>\n",
              "    </tr>\n",
              "    <tr>\n",
              "      <th>3</th>\n",
              "      <td>94.50</td>\n",
              "      <td>112.50</td>\n",
              "      <td>107.00</td>\n",
              "      <td>0</td>\n",
              "      <td>5</td>\n",
              "      <td>301</td>\n",
              "      <td>978</td>\n",
              "      <td>5.0</td>\n",
              "    </tr>\n",
              "    <tr>\n",
              "      <th>4</th>\n",
              "      <td>21.25</td>\n",
              "      <td>148.50</td>\n",
              "      <td>99.75</td>\n",
              "      <td>0</td>\n",
              "      <td>5</td>\n",
              "      <td>301</td>\n",
              "      <td>2238</td>\n",
              "      <td>5.0</td>\n",
              "    </tr>\n",
              "    <tr>\n",
              "      <th>...</th>\n",
              "      <td>...</td>\n",
              "      <td>...</td>\n",
              "      <td>...</td>\n",
              "      <td>...</td>\n",
              "      <td>...</td>\n",
              "      <td>...</td>\n",
              "      <td>...</td>\n",
              "      <td>...</td>\n",
              "    </tr>\n",
              "    <tr>\n",
              "      <th>803471</th>\n",
              "      <td>9.60</td>\n",
              "      <td>11.00</td>\n",
              "      <td>10.25</td>\n",
              "      <td>177</td>\n",
              "      <td>27</td>\n",
              "      <td>34</td>\n",
              "      <td>1828</td>\n",
              "      <td>7.0</td>\n",
              "    </tr>\n",
              "    <tr>\n",
              "      <th>803472</th>\n",
              "      <td>6.30</td>\n",
              "      <td>6.60</td>\n",
              "      <td>6.50</td>\n",
              "      <td>177</td>\n",
              "      <td>27</td>\n",
              "      <td>146</td>\n",
              "      <td>2001</td>\n",
              "      <td>7.0</td>\n",
              "    </tr>\n",
              "    <tr>\n",
              "      <th>803473</th>\n",
              "      <td>10.00</td>\n",
              "      <td>10.50</td>\n",
              "      <td>10.20</td>\n",
              "      <td>177</td>\n",
              "      <td>27</td>\n",
              "      <td>359</td>\n",
              "      <td>2313</td>\n",
              "      <td>7.0</td>\n",
              "    </tr>\n",
              "    <tr>\n",
              "      <th>803474</th>\n",
              "      <td>9.00</td>\n",
              "      <td>12.00</td>\n",
              "      <td>11.00</td>\n",
              "      <td>178</td>\n",
              "      <td>3</td>\n",
              "      <td>72</td>\n",
              "      <td>2185</td>\n",
              "      <td>7.0</td>\n",
              "    </tr>\n",
              "    <tr>\n",
              "      <th>803475</th>\n",
              "      <td>NaN</td>\n",
              "      <td>NaN</td>\n",
              "      <td>NaN</td>\n",
              "      <td>178</td>\n",
              "      <td>8</td>\n",
              "      <td>483</td>\n",
              "      <td>2349</td>\n",
              "      <td>NaN</td>\n",
              "    </tr>\n",
              "  </tbody>\n",
              "</table>\n",
              "<p>803476 rows × 8 columns</p>\n",
              "</div>\n",
              "      <button class=\"colab-df-convert\" onclick=\"convertToInteractive('df-20a45d45-5852-437d-9c3f-19523f4128f0')\"\n",
              "              title=\"Convert this dataframe to an interactive table.\"\n",
              "              style=\"display:none;\">\n",
              "        \n",
              "  <svg xmlns=\"http://www.w3.org/2000/svg\" height=\"24px\"viewBox=\"0 0 24 24\"\n",
              "       width=\"24px\">\n",
              "    <path d=\"M0 0h24v24H0V0z\" fill=\"none\"/>\n",
              "    <path d=\"M18.56 5.44l.94 2.06.94-2.06 2.06-.94-2.06-.94-.94-2.06-.94 2.06-2.06.94zm-11 1L8.5 8.5l.94-2.06 2.06-.94-2.06-.94L8.5 2.5l-.94 2.06-2.06.94zm10 10l.94 2.06.94-2.06 2.06-.94-2.06-.94-.94-2.06-.94 2.06-2.06.94z\"/><path d=\"M17.41 7.96l-1.37-1.37c-.4-.4-.92-.59-1.43-.59-.52 0-1.04.2-1.43.59L10.3 9.45l-7.72 7.72c-.78.78-.78 2.05 0 2.83L4 21.41c.39.39.9.59 1.41.59.51 0 1.02-.2 1.41-.59l7.78-7.78 2.81-2.81c.8-.78.8-2.07 0-2.86zM5.41 20L4 18.59l7.72-7.72 1.47 1.35L5.41 20z\"/>\n",
              "  </svg>\n",
              "      </button>\n",
              "      \n",
              "  <style>\n",
              "    .colab-df-container {\n",
              "      display:flex;\n",
              "      flex-wrap:wrap;\n",
              "      gap: 12px;\n",
              "    }\n",
              "\n",
              "    .colab-df-convert {\n",
              "      background-color: #E8F0FE;\n",
              "      border: none;\n",
              "      border-radius: 50%;\n",
              "      cursor: pointer;\n",
              "      display: none;\n",
              "      fill: #1967D2;\n",
              "      height: 32px;\n",
              "      padding: 0 0 0 0;\n",
              "      width: 32px;\n",
              "    }\n",
              "\n",
              "    .colab-df-convert:hover {\n",
              "      background-color: #E2EBFA;\n",
              "      box-shadow: 0px 1px 2px rgba(60, 64, 67, 0.3), 0px 1px 3px 1px rgba(60, 64, 67, 0.15);\n",
              "      fill: #174EA6;\n",
              "    }\n",
              "\n",
              "    [theme=dark] .colab-df-convert {\n",
              "      background-color: #3B4455;\n",
              "      fill: #D2E3FC;\n",
              "    }\n",
              "\n",
              "    [theme=dark] .colab-df-convert:hover {\n",
              "      background-color: #434B5C;\n",
              "      box-shadow: 0px 1px 3px 1px rgba(0, 0, 0, 0.15);\n",
              "      filter: drop-shadow(0px 1px 2px rgba(0, 0, 0, 0.3));\n",
              "      fill: #FFFFFF;\n",
              "    }\n",
              "  </style>\n",
              "\n",
              "      <script>\n",
              "        const buttonEl =\n",
              "          document.querySelector('#df-20a45d45-5852-437d-9c3f-19523f4128f0 button.colab-df-convert');\n",
              "        buttonEl.style.display =\n",
              "          google.colab.kernel.accessAllowed ? 'block' : 'none';\n",
              "\n",
              "        async function convertToInteractive(key) {\n",
              "          const element = document.querySelector('#df-20a45d45-5852-437d-9c3f-19523f4128f0');\n",
              "          const dataTable =\n",
              "            await google.colab.kernel.invokeFunction('convertToInteractive',\n",
              "                                                     [key], {});\n",
              "          if (!dataTable) return;\n",
              "\n",
              "          const docLinkHtml = 'Like what you see? Visit the ' +\n",
              "            '<a target=\"_blank\" href=https://colab.research.google.com/notebooks/data_table.ipynb>data table notebook</a>'\n",
              "            + ' to learn more about interactive tables.';\n",
              "          element.innerHTML = '';\n",
              "          dataTable['output_type'] = 'display_data';\n",
              "          await google.colab.output.renderOutput(dataTable, element);\n",
              "          const docLink = document.createElement('div');\n",
              "          docLink.innerHTML = docLinkHtml;\n",
              "          element.appendChild(docLink);\n",
              "        }\n",
              "      </script>\n",
              "    </div>\n",
              "  </div>\n",
              "  "
            ]
          },
          "metadata": {},
          "execution_count": 48
        }
      ]
    },
    {
      "cell_type": "code",
      "source": [
        "h = d.corr()\n",
        "sns.heatmap(h,annot=True)"
      ],
      "metadata": {
        "colab": {
          "base_uri": "https://localhost:8080/",
          "height": 338
        },
        "id": "VhsckKZfQLMS",
        "outputId": "f757fbd7-e203-41a8-a23b-3df68dc72a73"
      },
      "execution_count": 49,
      "outputs": [
        {
          "output_type": "execute_result",
          "data": {
            "text/plain": [
              "<matplotlib.axes._subplots.AxesSubplot at 0x7f012a599dc0>"
            ]
          },
          "metadata": {},
          "execution_count": 49
        },
        {
          "output_type": "display_data",
          "data": {
            "text/plain": [
              "<Figure size 432x288 with 2 Axes>"
            ],
            "image/png": "[encoded data removed]"
          },
          "metadata": {
            "needs_background": "light"
          }
        }
      ]
    },
    {
      "cell_type": "code",
      "source": [
        "d.drop(['commodity','state_'], inplace=True, axis=1)"
      ],
      "metadata": {
        "id": "mpOsNZpsQVCT"
      },
      "execution_count": 50,
      "outputs": []
    },
    {
      "cell_type": "code",
      "source": [
        "d.drop([\"district_\"],inplace=True,axis=1)"
      ],
      "metadata": {
        "id": "aRHLdU4ORWK5"
      },
      "execution_count": 53,
      "outputs": []
    },
    {
      "cell_type": "code",
      "source": [
        "h = d.corr()\n",
        "sns.heatmap(h,annot=True)"
      ],
      "metadata": {
        "colab": {
          "base_uri": "https://localhost:8080/",
          "height": 338
        },
        "id": "tX2YvX5vRuzE",
        "outputId": "f038d1fd-241b-46e0-916f-23ae7e70de7e"
      },
      "execution_count": 54,
      "outputs": [
        {
          "output_type": "execute_result",
          "data": {
            "text/plain": [
              "<matplotlib.axes._subplots.AxesSubplot at 0x7f012a4c8e50>"
            ]
          },
          "metadata": {},
          "execution_count": 54
        },
        {
          "output_type": "display_data",
          "data": {
            "text/plain": [
              "<Figure size 432x288 with 2 Axes>"
            ],
            "image/png": "[encoded data removed]"
          },
          "metadata": {
            "needs_background": "light"
          }
        }
      ]
    },
    {
      "cell_type": "code",
      "source": [
        "y = d['modal_price']"
      ],
      "metadata": {
        "id": "U-R_kdq2Ss2V"
      },
      "execution_count": 55,
      "outputs": []
    },
    {
      "cell_type": "code",
      "source": [
        "y"
      ],
      "metadata": {
        "colab": {
          "base_uri": "https://localhost:8080/"
        },
        "id": "SCG-7EU0SzOX",
        "outputId": "d86b8b6d-4084-4ad1-c498-89f82b5ad70b"
      },
      "execution_count": 56,
      "outputs": [
        {
          "output_type": "execute_result",
          "data": {
            "text/plain": [
              "0          79.55\n",
              "1          80.05\n",
              "2         122.50\n",
              "3         107.00\n",
              "4          99.75\n",
              "           ...  \n",
              "803471     10.25\n",
              "803472      6.50\n",
              "803473     10.20\n",
              "803474     11.00\n",
              "803475       NaN\n",
              "Name: modal_price, Length: 803476, dtype: float64"
            ]
          },
          "metadata": {},
          "execution_count": 56
        }
      ]
    },
    {
      "cell_type": "code",
      "source": [
        "d.drop(['month'],inplace=True,axis=1)"
      ],
      "metadata": {
        "id": "ZpHgOygzS0GJ"
      },
      "execution_count": 57,
      "outputs": []
    },
    {
      "cell_type": "code",
      "source": [
        "d.drop([\"modal_price\"],inplace=True,axis=1)"
      ],
      "metadata": {
        "id": "40OXGTbHS0Ie"
      },
      "execution_count": 59,
      "outputs": []
    },
    {
      "cell_type": "code",
      "source": [
        "d.drop([\"market_\"],inplace=True,axis=1)"
      ],
      "metadata": {
        "id": "WfGMwvArS0Ki"
      },
      "execution_count": 60,
      "outputs": []
    },
    {
      "cell_type": "code",
      "source": [
        "x=d"
      ],
      "metadata": {
        "id": "dlXWGd4fS0Mo"
      },
      "execution_count": 61,
      "outputs": []
    },
    {
      "cell_type": "code",
      "source": [
        "y=y.interpolate()"
      ],
      "metadata": {
        "id": "tUKAZHq5TMsK"
      },
      "execution_count": 62,
      "outputs": []
    },
    {
      "cell_type": "code",
      "source": [
        "x=x.interpolate()"
      ],
      "metadata": {
        "id": "82q-9aaMTPmc"
      },
      "execution_count": 63,
      "outputs": []
    },
    {
      "cell_type": "code",
      "source": [
        "from sklearn.model_selection import train_test_split\n",
        "x_train,x_test,y_train,y_test=train_test_split(x,y,test_size=0.2)"
      ],
      "metadata": {
        "id": "weWBNfloTRZ7"
      },
      "execution_count": 64,
      "outputs": []
    },
    {
      "cell_type": "code",
      "source": [
        "from sklearn.linear_model import LinearRegression\n",
        "model = LinearRegression().fit(x_train, y_train)\n",
        "print(\"Linear Regression accuracy: \",model.score(x_train, y_train))"
      ],
      "metadata": {
        "colab": {
          "base_uri": "https://localhost:8080/"
        },
        "id": "_m0rnIISTUG3",
        "outputId": "e1bda11f-3a8e-4f1c-cbb0-89d3d07b9f12"
      },
      "execution_count": 65,
      "outputs": [
        {
          "output_type": "stream",
          "name": "stdout",
          "text": [
            "Linear Regression accuracy:  0.994986931469977\n"
          ]
        }
      ]
    },
    {
      "cell_type": "code",
      "source": [
        "import pickle\n",
        "with open('price_prediction','wb') as f:\n",
        "  pickle.dump(model,f)"
      ],
      "metadata": {
        "id": "SN0WynL2TWlS"
      },
      "execution_count": 67,
      "outputs": []
    },
    {
      "cell_type": "code",
      "source": [],
      "metadata": {
        "id": "_I4kUdvlUd5g"
      },
      "execution_count": null,
      "outputs": []
    }
  ]
}