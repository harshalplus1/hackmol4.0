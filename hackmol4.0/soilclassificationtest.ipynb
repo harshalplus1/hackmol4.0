{
 "cells": [
  {
   "cell_type": "code",
   "execution_count": 3,
   "metadata": {},
   "outputs": [],
   "source": [
    "import tensorflow as tf\n",
    "import numpy as np\n",
    "import cv2 as cv\n",
    "import os\n",
    "from tensorflow.keras.models import load_model"
   ]
  },
  {
   "cell_type": "code",
   "execution_count": 23,
   "metadata": {},
   "outputs": [
    {
     "name": "stdout",
     "output_type": "stream",
     "text": [
      "1/1 [==============================] - 0s 204ms/step\n"
     ]
    },
    {
     "data": {
      "text/plain": [
       "3"
      ]
     },
     "execution_count": 23,
     "metadata": {},
     "output_type": "execute_result"
    }
   ],
   "source": [
    "img=cv.imread(r\"C:\\Users\\hkshi\\OneDrive\\Desktop\\blacksoil.jpg\")\n",
    "img.resize((224,224,3))\n",
    "img=np.array(img)\n",
    "img=img[None,:,:,:]\n",
    "model=load_model(r\"C:\\Users\\hkshi\\OneDrive\\Desktop\\hackmolsoilclassification.h5\")\n",
    "np.argmax(model.predict(img)[0])\n"
   ]
  }
 ],
 "metadata": {
  "kernelspec": {
   "display_name": "Python 3",
   "language": "python",
   "name": "python3"
  },
  "language_info": {
   "codemirror_mode": {
    "name": "ipython",
    "version": 3
   },
   "file_extension": ".py",
   "mimetype": "text/x-python",
   "name": "python",
   "nbconvert_exporter": "python",
   "pygments_lexer": "ipython3",
   "version": "3.10.0"
  },
  "orig_nbformat": 4,
  "vscode": {
   "interpreter": {
    "hash": "16037275878e51c27a8709b0565eda3f87d771055d7d729519b6518fb4a95bd3"
   }
  }
 },
 "nbformat": 4,
 "nbformat_minor": 2
}
