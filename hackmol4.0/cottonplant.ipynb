{
 "cells": [
  {
   "cell_type": "code",
   "execution_count": null,
   "metadata": {},
   "outputs": [],
   "source": [
    "import tensorflow as tf\n",
    "import numpy as np\n",
    "import os\n",
    "import cv2 as cv"
   ]
  },
  {
   "cell_type": "code",
   "execution_count": null,
   "metadata": {},
   "outputs": [],
   "source": [
    "images=[]\n",
    "labels=[]\n",
    "classes=[\"bacterial_blight\",'curl_virus',\"fussarium_wilt\",\"healthy\"]\n",
    "path=r'C:\\Users\\hkshi\\OneDrive\\Desktop\\cotton'\n",
    "for type in classes:\n",
    "    npath=os.path.join(path,type)\n",
    "    index=classes.index()\n",
    "    for imgs in os.listdir(npath):\n",
    "        nnpath=os.list.dir(npath,imgs)\n",
    "        img=cv.imread(nnpath)\n",
    "        img.resize(224,224,3)\n",
    "        images.append(img)\n",
    "        labels.append(index)"
   ]
  }
 ],
 "metadata": {
  "kernelspec": {
   "display_name": "Python 3",
   "language": "python",
   "name": "python3"
  },
  "language_info": {
   "name": "python",
   "version": "3.10.0"
  },
  "orig_nbformat": 4,
  "vscode": {
   "interpreter": {
    "hash": "16037275878e51c27a8709b0565eda3f87d771055d7d729519b6518fb4a95bd3"
   }
  }
 },
 "nbformat": 4,
 "nbformat_minor": 2
}
